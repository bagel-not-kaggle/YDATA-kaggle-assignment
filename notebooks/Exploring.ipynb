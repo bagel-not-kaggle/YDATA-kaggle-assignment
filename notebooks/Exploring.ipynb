{
 "cells": [
  {
   "cell_type": "code",
   "execution_count": 1,
   "metadata": {},
   "outputs": [],
   "source": [
    "import matplotlib.pyplot as plt\n",
    "import numpy as np\n",
    "import pandas as pd\n",
    "import sys\n"
   ]
  },
  {
   "cell_type": "code",
   "execution_count": 52,
   "metadata": {},
   "outputs": [],
   "source": [
    "import pickle\n",
    "cleaned_data = pd.read_pickle(r\"C:\\Users\\maorb\\Classes\\Classical_ML\\YDATA-kaggle-assignment\\data\\processed\\cleaned_data_Maor.pkl\")\n",
    "X_train = pd.read_pickle(r\"C:\\Users\\maorb\\Classes\\Classical_ML\\YDATA-kaggle-assignment\\data\\processed\\X_train.pkl\")\n",
    "X_test = pd.read_pickle(r\"C:\\Users\\maorb\\Classes\\Classical_ML\\YDATA-kaggle-assignment\\data\\processed\\X_test.pkl\")\n",
    "y_train = pd.read_pickle(r\"C:\\Users\\maorb\\Classes\\Classical_ML\\YDATA-kaggle-assignment\\data\\processed\\y_train.pkl\")\n",
    "y_test = pd.read_pickle(r\"C:\\Users\\maorb\\Classes\\Classical_ML\\YDATA-kaggle-assignment\\data\\processed\\y_test.pkl\")"
   ]
  },
  {
   "cell_type": "code",
   "execution_count": 53,
   "metadata": {},
   "outputs": [
    {
     "data": {
      "text/plain": [
       "session_id                  691\n",
       "DateTime                    725\n",
       "user_id                       0\n",
       "product                      62\n",
       "campaign_id                 726\n",
       "webpage_id                  728\n",
       "user_group_id             15019\n",
       "gender                    14369\n",
       "age_level                 14362\n",
       "user_depth                15027\n",
       "city_development_index    99294\n",
       "var_1                        61\n",
       "is_click                      0\n",
       "product_category            631\n",
       "dtype: int64"
      ]
     },
     "execution_count": 53,
     "metadata": {},
     "output_type": "execute_result"
    }
   ],
   "source": [
    "cleaned_data.isna().sum()"
   ]
  },
  {
   "cell_type": "code",
   "execution_count": 49,
   "metadata": {},
   "outputs": [
    {
     "data": {
      "text/plain": [
       "(365875, 14)"
      ]
     },
     "execution_count": 49,
     "metadata": {},
     "output_type": "execute_result"
    }
   ],
   "source": [
    "cleaned_data.shape"
   ]
  },
  {
   "cell_type": "code",
   "execution_count": 50,
   "metadata": {},
   "outputs": [],
   "source": [
    "#drop rows where is click is null\n",
    "cleaned_data = cleaned_data.dropna(subset=['is_click'])"
   ]
  },
  {
   "cell_type": "code",
   "execution_count": 51,
   "metadata": {},
   "outputs": [
    {
     "data": {
      "text/plain": [
       "(365798, 14)"
      ]
     },
     "execution_count": 51,
     "metadata": {},
     "output_type": "execute_result"
    }
   ],
   "source": [
    "cleaned_data.shape  "
   ]
  },
  {
   "cell_type": "code",
   "execution_count": 31,
   "metadata": {},
   "outputs": [],
   "source": [
    "cleaned_data['is_click'] = cleaned_data['is_click'].astype('category')"
   ]
  },
  {
   "cell_type": "code",
   "execution_count": 32,
   "metadata": {},
   "outputs": [
    {
     "name": "stdout",
     "output_type": "stream",
     "text": [
      "<class 'pandas.core.frame.DataFrame'>\n",
      "RangeIndex: 365875 entries, 0 to 365874\n",
      "Data columns (total 14 columns):\n",
      " #   Column                  Non-Null Count   Dtype   \n",
      "---  ------                  --------------   -----   \n",
      " 0   session_id              365167 non-null  float64 \n",
      " 1   DateTime                365139 non-null  object  \n",
      " 2   user_id                 365875 non-null  float64 \n",
      " 3   product                 365799 non-null  object  \n",
      " 4   campaign_id             365132 non-null  float64 \n",
      " 5   webpage_id              365132 non-null  float64 \n",
      " 6   user_group_id           350837 non-null  float64 \n",
      " 7   gender                  351489 non-null  object  \n",
      " 8   age_level               351488 non-null  float64 \n",
      " 9   user_depth              350831 non-null  float64 \n",
      " 10  city_development_index  266546 non-null  float64 \n",
      " 11  var_1                   365806 non-null  float64 \n",
      " 12  is_click                365798 non-null  category\n",
      " 13  product_category        365235 non-null  float64 \n",
      "dtypes: category(1), float64(10), object(3)\n",
      "memory usage: 36.6+ MB\n"
     ]
    }
   ],
   "source": [
    "cleaned_data.info()"
   ]
  },
  {
   "cell_type": "code",
   "execution_count": 20,
   "metadata": {},
   "outputs": [
    {
     "data": {
      "text/html": [
       "<div>\n",
       "<style scoped>\n",
       "    .dataframe tbody tr th:only-of-type {\n",
       "        vertical-align: middle;\n",
       "    }\n",
       "\n",
       "    .dataframe tbody tr th {\n",
       "        vertical-align: top;\n",
       "    }\n",
       "\n",
       "    .dataframe thead th {\n",
       "        text-align: right;\n",
       "    }\n",
       "</style>\n",
       "<table border=\"1\" class=\"dataframe\">\n",
       "  <thead>\n",
       "    <tr style=\"text-align: right;\">\n",
       "      <th></th>\n",
       "      <th>session_id</th>\n",
       "      <th>DateTime</th>\n",
       "      <th>user_id</th>\n",
       "      <th>age_level</th>\n",
       "      <th>user_depth</th>\n",
       "      <th>city_development_index</th>\n",
       "      <th>var_1</th>\n",
       "      <th>product_B</th>\n",
       "      <th>product_C</th>\n",
       "      <th>product_D</th>\n",
       "      <th>...</th>\n",
       "      <th>user_group_id_3.0</th>\n",
       "      <th>user_group_id_4.0</th>\n",
       "      <th>user_group_id_5.0</th>\n",
       "      <th>user_group_id_6.0</th>\n",
       "      <th>user_group_id_7.0</th>\n",
       "      <th>user_group_id_8.0</th>\n",
       "      <th>user_group_id_9.0</th>\n",
       "      <th>user_group_id_10.0</th>\n",
       "      <th>user_group_id_11.0</th>\n",
       "      <th>user_group_id_12.0</th>\n",
       "    </tr>\n",
       "  </thead>\n",
       "  <tbody>\n",
       "    <tr>\n",
       "      <th>0</th>\n",
       "      <td>289006.0</td>\n",
       "      <td>2017-07-02 16:19:00</td>\n",
       "      <td>715327.0</td>\n",
       "      <td>4.0</td>\n",
       "      <td>3.0</td>\n",
       "      <td>2.0</td>\n",
       "      <td>1.0</td>\n",
       "      <td>False</td>\n",
       "      <td>True</td>\n",
       "      <td>False</td>\n",
       "      <td>...</td>\n",
       "      <td>False</td>\n",
       "      <td>True</td>\n",
       "      <td>False</td>\n",
       "      <td>False</td>\n",
       "      <td>False</td>\n",
       "      <td>False</td>\n",
       "      <td>False</td>\n",
       "      <td>False</td>\n",
       "      <td>False</td>\n",
       "      <td>False</td>\n",
       "    </tr>\n",
       "    <tr>\n",
       "      <th>1</th>\n",
       "      <td>33357.0</td>\n",
       "      <td>2017-07-05 10:08:00</td>\n",
       "      <td>836420.0</td>\n",
       "      <td>NaN</td>\n",
       "      <td>NaN</td>\n",
       "      <td>NaN</td>\n",
       "      <td>0.0</td>\n",
       "      <td>False</td>\n",
       "      <td>False</td>\n",
       "      <td>False</td>\n",
       "      <td>...</td>\n",
       "      <td>False</td>\n",
       "      <td>False</td>\n",
       "      <td>False</td>\n",
       "      <td>False</td>\n",
       "      <td>False</td>\n",
       "      <td>False</td>\n",
       "      <td>False</td>\n",
       "      <td>False</td>\n",
       "      <td>False</td>\n",
       "      <td>False</td>\n",
       "    </tr>\n",
       "    <tr>\n",
       "      <th>2</th>\n",
       "      <td>129669.0</td>\n",
       "      <td>2017-07-03 08:10:00</td>\n",
       "      <td>914559.0</td>\n",
       "      <td>4.0</td>\n",
       "      <td>3.0</td>\n",
       "      <td>2.0</td>\n",
       "      <td>1.0</td>\n",
       "      <td>False</td>\n",
       "      <td>True</td>\n",
       "      <td>False</td>\n",
       "      <td>...</td>\n",
       "      <td>False</td>\n",
       "      <td>False</td>\n",
       "      <td>False</td>\n",
       "      <td>False</td>\n",
       "      <td>False</td>\n",
       "      <td>False</td>\n",
       "      <td>False</td>\n",
       "      <td>True</td>\n",
       "      <td>False</td>\n",
       "      <td>False</td>\n",
       "    </tr>\n",
       "    <tr>\n",
       "      <th>3</th>\n",
       "      <td>377077.0</td>\n",
       "      <td>2017-07-05 10:40:00</td>\n",
       "      <td>676142.0</td>\n",
       "      <td>2.0</td>\n",
       "      <td>3.0</td>\n",
       "      <td>1.0</td>\n",
       "      <td>1.0</td>\n",
       "      <td>False</td>\n",
       "      <td>False</td>\n",
       "      <td>True</td>\n",
       "      <td>...</td>\n",
       "      <td>False</td>\n",
       "      <td>False</td>\n",
       "      <td>False</td>\n",
       "      <td>False</td>\n",
       "      <td>False</td>\n",
       "      <td>False</td>\n",
       "      <td>False</td>\n",
       "      <td>False</td>\n",
       "      <td>False</td>\n",
       "      <td>False</td>\n",
       "    </tr>\n",
       "    <tr>\n",
       "      <th>4</th>\n",
       "      <td>217169.0</td>\n",
       "      <td>2017-07-07 05:49:00</td>\n",
       "      <td>80378.0</td>\n",
       "      <td>3.0</td>\n",
       "      <td>3.0</td>\n",
       "      <td>NaN</td>\n",
       "      <td>0.0</td>\n",
       "      <td>False</td>\n",
       "      <td>False</td>\n",
       "      <td>False</td>\n",
       "      <td>...</td>\n",
       "      <td>False</td>\n",
       "      <td>False</td>\n",
       "      <td>False</td>\n",
       "      <td>False</td>\n",
       "      <td>False</td>\n",
       "      <td>False</td>\n",
       "      <td>True</td>\n",
       "      <td>False</td>\n",
       "      <td>False</td>\n",
       "      <td>False</td>\n",
       "    </tr>\n",
       "  </tbody>\n",
       "</table>\n",
       "<p>5 rows × 56 columns</p>\n",
       "</div>"
      ],
      "text/plain": [
       "   session_id             DateTime   user_id  age_level  user_depth  \\\n",
       "0    289006.0  2017-07-02 16:19:00  715327.0        4.0         3.0   \n",
       "1     33357.0  2017-07-05 10:08:00  836420.0        NaN         NaN   \n",
       "2    129669.0  2017-07-03 08:10:00  914559.0        4.0         3.0   \n",
       "3    377077.0  2017-07-05 10:40:00  676142.0        2.0         3.0   \n",
       "4    217169.0  2017-07-07 05:49:00   80378.0        3.0         3.0   \n",
       "\n",
       "   city_development_index  var_1  product_B  product_C  product_D  ...  \\\n",
       "0                     2.0    1.0      False       True      False  ...   \n",
       "1                     NaN    0.0      False      False      False  ...   \n",
       "2                     2.0    1.0      False       True      False  ...   \n",
       "3                     1.0    1.0      False      False       True  ...   \n",
       "4                     NaN    0.0      False      False      False  ...   \n",
       "\n",
       "   user_group_id_3.0  user_group_id_4.0  user_group_id_5.0  user_group_id_6.0  \\\n",
       "0              False               True              False              False   \n",
       "1              False              False              False              False   \n",
       "2              False              False              False              False   \n",
       "3              False              False              False              False   \n",
       "4              False              False              False              False   \n",
       "\n",
       "   user_group_id_7.0  user_group_id_8.0  user_group_id_9.0  \\\n",
       "0              False              False              False   \n",
       "1              False              False              False   \n",
       "2              False              False              False   \n",
       "3              False              False              False   \n",
       "4              False              False               True   \n",
       "\n",
       "   user_group_id_10.0  user_group_id_11.0  user_group_id_12.0  \n",
       "0               False               False               False  \n",
       "1               False               False               False  \n",
       "2                True               False               False  \n",
       "3               False               False               False  \n",
       "4               False               False               False  \n",
       "\n",
       "[5 rows x 56 columns]"
      ]
     },
     "execution_count": 20,
     "metadata": {},
     "output_type": "execute_result"
    }
   ],
   "source": [
    "X_train.head()"
   ]
  },
  {
   "cell_type": "code",
   "execution_count": 34,
   "metadata": {},
   "outputs": [
    {
     "name": "stdout",
     "output_type": "stream",
     "text": [
      "Before saving:\n",
      "<class 'pandas.core.frame.DataFrame'>\n",
      "RangeIndex: 3 entries, 0 to 2\n",
      "Data columns (total 2 columns):\n",
      " #   Column  Non-Null Count  Dtype   \n",
      "---  ------  --------------  -----   \n",
      " 0   col1    3 non-null      int64   \n",
      " 1   col2    3 non-null      category\n",
      "dtypes: category(1), int64(1)\n",
      "memory usage: 291.0 bytes\n",
      "None\n",
      "After loading:\n",
      "<class 'pandas.core.frame.DataFrame'>\n",
      "RangeIndex: 3 entries, 0 to 2\n",
      "Data columns (total 2 columns):\n",
      " #   Column  Non-Null Count  Dtype   \n",
      "---  ------  --------------  -----   \n",
      " 0   col1    3 non-null      int64   \n",
      " 1   col2    3 non-null      category\n",
      "dtypes: category(1), int64(1)\n",
      "memory usage: 183.0 bytes\n",
      "None\n"
     ]
    }
   ],
   "source": [
    "import pandas as pd\n",
    "\n",
    "df_test = pd.DataFrame({\n",
    "    'col1': [1,2,3],\n",
    "    'col2': ['a','b','c']\n",
    "})\n",
    "df_test['col2'] = df_test['col2'].astype('category')\n",
    "\n",
    "print(\"Before saving:\")\n",
    "print(df_test.info())\n",
    "\n",
    "df_test.to_pickle('test.pkl')\n",
    "\n",
    "df_read = pd.read_pickle('test.pkl')\n",
    "print(\"After loading:\")\n",
    "print(df_read.info())\n"
   ]
  }
 ],
 "metadata": {
  "kernelspec": {
   "display_name": "Yofi",
   "language": "python",
   "name": "python3"
  },
  "language_info": {
   "codemirror_mode": {
    "name": "ipython",
    "version": 3
   },
   "file_extension": ".py",
   "mimetype": "text/x-python",
   "name": "python",
   "nbconvert_exporter": "python",
   "pygments_lexer": "ipython3",
   "version": "3.11.9"
  }
 },
 "nbformat": 4,
 "nbformat_minor": 2
}
